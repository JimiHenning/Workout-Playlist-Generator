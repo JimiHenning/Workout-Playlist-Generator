{
 "cells": [
  {
   "cell_type": "code",
   "execution_count": null,
   "metadata": {},
   "outputs": [],
   "source": [
    "import numpy as np\n",
    "import pandas as pd\n",
    "import random\n",
    "import warnings\n",
    "import spotipy\n",
    "from spotipy.oauth2 import SpotifyClientCredentials\n",
    "import time\n",
    "import getpass\n",
    "from yellowbrick.cluster import KElbowVisualizer\n",
    "import seaborn as sns\n",
    "import matplotlib.pyplot as plt\n",
    "import plotly.express as px\n",
    "from sklearn.preprocessing import StandardScaler\n",
    "from sklearn.preprocessing import MinMaxScaler\n",
    "from sklearn.cluster import KMeans\n",
    "import time\n",
    "from spotipy.exceptions import SpotifyException\n",
    "from pprint import pprint\n",
    "import gnod_functions as gf\n",
    "\n",
    "\n",
    "\n",
    "warnings.filterwarnings('ignore')"
   ]
  },
  {
   "cell_type": "code",
   "execution_count": null,
   "metadata": {},
   "outputs": [],
   "source": [
    "pd.set_option(\"display.max_rows\" , 700)\n",
    "pd.set_option(\"display.max_columns\" , 50)"
   ]
  },
  {
   "cell_type": "code",
   "execution_count": null,
   "metadata": {},
   "outputs": [],
   "source": [
    "import os\n",
    "\n",
    "spotify_client_id = os.getenv('SPOTIFY CLIENT ID')\n",
    "\n",
    "# Check if the key is retrieved successfully\n",
    "if spotify_client_id:\n",
    "    print(\"Secret key retrieved successfully!\")\n",
    "else:\n",
    "    print(\"Failed to retrieve secret key.\")\n"
   ]
  },
  {
   "cell_type": "code",
   "execution_count": null,
   "metadata": {},
   "outputs": [],
   "source": [
    "spotify_client_secret = os.getenv('SPOTIFY CLIENT SECRET')\n",
    "\n",
    "# Check if the key is retrieved successfully\n",
    "if spotify_client_secret:\n",
    "    print(\"Secret key retrieved successfully!\")\n",
    "else:\n",
    "    print(\"Failed to retrieve secret key.\")\n"
   ]
  },
  {
   "cell_type": "code",
   "execution_count": null,
   "metadata": {},
   "outputs": [],
   "source": [
    "CLIENT_ID = spotify_client_id\n",
    "CLIENT_SECRET = spotify_client_secret"
   ]
  },
  {
   "cell_type": "code",
   "execution_count": null,
   "metadata": {},
   "outputs": [],
   "source": [
    "import spotipy\n",
    "from spotipy.oauth2 import SpotifyClientCredentials\n",
    "\n",
    "#Initialize SpotiPy with user credentials\n",
    "sp = spotipy.Spotify(auth_manager=SpotifyClientCredentials(client_id=CLIENT_ID,\n",
    "                                                           client_secret=CLIENT_SECRET))\n"
   ]
  },
  {
   "cell_type": "code",
   "execution_count": null,
   "metadata": {},
   "outputs": [],
   "source": [
    "\"\"\"playlist_id = \"37i9dQZF1DWWOaP4H0w5b0\"\n",
    "metal_df = gf.get_features_from_playlist(sp, playlist_id, filename=\"metal_features.csv\")\"\"\""
   ]
  },
  {
   "cell_type": "code",
   "execution_count": null,
   "metadata": {},
   "outputs": [],
   "source": [
    "metal_df = pd.read_csv(\"metal_features.csv\")"
   ]
  },
  {
   "cell_type": "code",
   "execution_count": null,
   "metadata": {},
   "outputs": [],
   "source": [
    "\"\"\"related_artists_df = gf.find_related_artists_for_df(sp, metal_df)\"\"\""
   ]
  },
  {
   "cell_type": "code",
   "execution_count": null,
   "metadata": {},
   "outputs": [],
   "source": [
    "\"\"\"related_artists_df.to_csv(\"related_artists.csv\", index=False)\"\"\""
   ]
  },
  {
   "cell_type": "code",
   "execution_count": null,
   "metadata": {},
   "outputs": [],
   "source": [
    "related_artists_df = pd.read_csv(\"related_artists.csv\")"
   ]
  },
  {
   "cell_type": "code",
   "execution_count": null,
   "metadata": {},
   "outputs": [],
   "source": [
    "combined_artists = related_artists_df.copy()\n",
    "combined_artists.rename(columns={\"related_artist_name\":\"artist_name\",\"related_artist_id\":\"artist_id\"}, inplace=True)\n",
    "combined_df_artists = combined_artists[[\"artist_id\",\"artist_name\"]]\n",
    "metal_df_artists = metal_df[[\"artist_id\",\"artist_name\"]]\n",
    "all_artists = pd.concat([combined_df_artists,metal_df_artists])"
   ]
  },
  {
   "cell_type": "code",
   "execution_count": null,
   "metadata": {},
   "outputs": [],
   "source": [
    "all_artists.duplicated().sum()"
   ]
  },
  {
   "cell_type": "code",
   "execution_count": null,
   "metadata": {},
   "outputs": [],
   "source": [
    "unique_artists = all_artists.drop_duplicates(ignore_index=True)\n",
    "unique_artists_df = unique_artists"
   ]
  },
  {
   "cell_type": "code",
   "execution_count": null,
   "metadata": {},
   "outputs": [],
   "source": [
    "\"\"\"top_tracks_df = gf.get_top_tracks_for_artists_in_batches(sp, unique_artists_df)\"\"\""
   ]
  },
  {
   "cell_type": "code",
   "execution_count": null,
   "metadata": {},
   "outputs": [],
   "source": [
    "\"\"\"top_tracks_df.to_csv(\"metal_top_tracks.csv\")\"\"\""
   ]
  },
  {
   "cell_type": "code",
   "execution_count": null,
   "metadata": {},
   "outputs": [],
   "source": [
    "\"\"\"enhanced_tracks_df = gf.get_audio_features_for_tracks(sp, top_tracks_df)\"\"\""
   ]
  },
  {
   "cell_type": "code",
   "execution_count": null,
   "metadata": {},
   "outputs": [],
   "source": [
    "\"\"\"enhanced_tracks_df.to_csv(\"enhanced_tracks.csv\")\"\"\""
   ]
  },
  {
   "cell_type": "code",
   "execution_count": null,
   "metadata": {},
   "outputs": [],
   "source": [
    "enhanced_tracks_df = pd.read_csv(\"enhanced_tracks.csv\")\n",
    "enhanced_tracks_df.shape"
   ]
  },
  {
   "cell_type": "code",
   "execution_count": null,
   "metadata": {},
   "outputs": [],
   "source": [
    "enhanced_tracks_df.shape"
   ]
  },
  {
   "cell_type": "code",
   "execution_count": null,
   "metadata": {},
   "outputs": [],
   "source": [
    "enhanced_tracks_df.duplicated().sum()"
   ]
  },
  {
   "cell_type": "code",
   "execution_count": null,
   "metadata": {},
   "outputs": [],
   "source": [
    "duplicates = enhanced_tracks_df[enhanced_tracks_df.duplicated(keep=False)]\n",
    "duplicates"
   ]
  },
  {
   "cell_type": "code",
   "execution_count": null,
   "metadata": {},
   "outputs": [],
   "source": [
    "enhanced_tracks_df.drop_duplicates(ignore_index=True, inplace=True)"
   ]
  },
  {
   "cell_type": "code",
   "execution_count": null,
   "metadata": {},
   "outputs": [],
   "source": [
    "enhanced_tracks_df.shape"
   ]
  },
  {
   "cell_type": "markdown",
   "metadata": {},
   "source": [
    "## SOME EDA"
   ]
  },
  {
   "cell_type": "code",
   "execution_count": null,
   "metadata": {},
   "outputs": [],
   "source": [
    "sns.histplot(enhanced_tracks_df['tempo'], kde=False, color='blue')\n",
    "\n",
    "plt.xlabel(\"Tempo (BPM)\", fontsize=14)\n",
    "\n",
    "plt.ylabel(\"Count\", fontsize=14)\n",
    "\n",
    "plt.grid(False)\n",
    "\n",
    "# Save the plot\n",
    "plt.savefig(\"tempo_update.png\", dpi=300)\n",
    "\n",
    "plt.show()"
   ]
  },
  {
   "cell_type": "code",
   "execution_count": null,
   "metadata": {},
   "outputs": [],
   "source": [
    "sns.histplot(enhanced_tracks_df['valence'], kde=False, color='blue')\n",
    "\n",
    "plt.xlabel(\"Valence\", fontsize=14)\n",
    "\n",
    "plt.ylabel(\"Count\", fontsize=14)\n",
    "\n",
    "plt.grid(False)\n",
    "\n",
    "# Save the plot\n",
    "plt.savefig(\"valence_update.png\", dpi=300)\n",
    "\n",
    "plt.show()"
   ]
  },
  {
   "cell_type": "code",
   "execution_count": null,
   "metadata": {},
   "outputs": [],
   "source": [
    "sns.histplot(enhanced_tracks_df['energy'], kde=False, color='blue')\n",
    "\n",
    "plt.xlabel(\"Energy\", fontsize=14)\n",
    "\n",
    "plt.ylabel(\"Count\", fontsize=14)\n",
    "\n",
    "plt.grid(False)\n",
    "\n",
    "# Save the plot\n",
    "plt.savefig(\"energy_update.png\", dpi=300)\n",
    "\n",
    "plt.show()"
   ]
  },
  {
   "cell_type": "code",
   "execution_count": null,
   "metadata": {},
   "outputs": [],
   "source": [
    "sns.histplot(enhanced_tracks_df['tempo'], kde=False, color='blue')\n",
    "\n",
    "plt.xlabel(\"Tempo (BPM)\", fontsize=14)\n",
    "\n",
    "plt.ylabel(\"Count\", fontsize=14)\n",
    "\n",
    "plt.grid(False)\n",
    "\n",
    "# Save the plot\n",
    "plt.savefig(\"tempo_update.png\", dpi=300)\n",
    "\n",
    "plt.show()"
   ]
  },
  {
   "cell_type": "code",
   "execution_count": null,
   "metadata": {},
   "outputs": [],
   "source": [
    "sns.histplot(enhanced_tracks_df['loudness'], kde=False, color='blue')\n",
    "\n",
    "plt.xlabel(\"Loudness (dB)\", fontsize=14)\n",
    "\n",
    "plt.ylabel(\"Count\", fontsize=14)\n",
    "\n",
    "plt.grid(False)\n",
    "\n",
    "# Save the plot\n",
    "plt.savefig(\"loudness_update.png\", dpi=300)\n",
    "\n",
    "plt.show()"
   ]
  },
  {
   "cell_type": "code",
   "execution_count": null,
   "metadata": {},
   "outputs": [],
   "source": [
    "sns.histplot(enhanced_tracks_df['danceability'], kde=False, color='blue')\n",
    "\n",
    "plt.xlabel(\"Danceability\", fontsize=14)\n",
    "\n",
    "plt.ylabel(\"Count\", fontsize=14)\n",
    "\n",
    "plt.grid(False)\n",
    "\n",
    "# Save the plot\n",
    "plt.savefig(\"danceability_update.png\", dpi=300)\n",
    "\n",
    "plt.show()"
   ]
  },
  {
   "cell_type": "code",
   "execution_count": null,
   "metadata": {},
   "outputs": [],
   "source": [
    "sns.histplot(enhanced_tracks_df['instrumentalness'], kde=False, color='blue')\n",
    "\n",
    "plt.xlabel(\"Instrumentalness\", fontsize=14)\n",
    "\n",
    "plt.ylabel(\"Count\", fontsize=14)\n",
    "\n",
    "plt.grid(False)\n",
    "\n",
    "# Save the plot\n",
    "plt.savefig(\"instrumentalness_update.png\", dpi=300)\n",
    "\n",
    "plt.show()"
   ]
  },
  {
   "cell_type": "code",
   "execution_count": null,
   "metadata": {},
   "outputs": [],
   "source": []
  },
  {
   "cell_type": "code",
   "execution_count": null,
   "metadata": {},
   "outputs": [],
   "source": [
    "cluster_df = enhanced_tracks_df.select_dtypes(include=np.number)\n",
    "cluster_df.head()"
   ]
  },
  {
   "cell_type": "code",
   "execution_count": null,
   "metadata": {},
   "outputs": [],
   "source": [
    "cluster_df_slim = cluster_df.drop(columns = [\"track_popularity\",\"track_number\",\"key\",\"mode\",\"duration_ms\",\"time_signature\"])\n",
    "cluster_df_slim"
   ]
  },
  {
   "cell_type": "code",
   "execution_count": null,
   "metadata": {},
   "outputs": [],
   "source": [
    "from sklearn.preprocessing import MinMaxScaler\n",
    "scaler = MinMaxScaler()\n",
    "cluster_df_slim_scaled = scaler.fit_transform(cluster_df_slim)\n",
    "cluster_df_slim_scaled = pd.DataFrame(cluster_df_slim_scaled, columns=cluster_df_slim.columns)"
   ]
  },
  {
   "cell_type": "code",
   "execution_count": null,
   "metadata": {},
   "outputs": [],
   "source": [
    "from yellowbrick.cluster import KElbowVisualizer\n",
    "from sklearn import cluster, datasets"
   ]
  },
  {
   "cell_type": "code",
   "execution_count": null,
   "metadata": {},
   "outputs": [],
   "source": [
    "model = cluster.KMeans(random_state=42, init=\"random\")\n",
    "visualizer = KElbowVisualizer(model, k=(2,20))\n",
    "visualizer.fit(cluster_df_slim_scaled)\n",
    "visualizer.poof()"
   ]
  },
  {
   "cell_type": "code",
   "execution_count": null,
   "metadata": {},
   "outputs": [],
   "source": [
    "#Optimal amount of clusters = 7 !"
   ]
  },
  {
   "cell_type": "code",
   "execution_count": null,
   "metadata": {},
   "outputs": [],
   "source": [
    "from sklearn.cluster import KMeans\n",
    "\n",
    "kmeans = KMeans(n_clusters=7, random_state=42)\n",
    "\n",
    "cluster_labels = kmeans.fit_predict(cluster_df_slim_scaled)"
   ]
  },
  {
   "cell_type": "code",
   "execution_count": null,
   "metadata": {},
   "outputs": [],
   "source": [
    "cluster_df_slim['Cluster'] = cluster_labels"
   ]
  },
  {
   "cell_type": "code",
   "execution_count": null,
   "metadata": {},
   "outputs": [],
   "source": [
    "cluster_df_slim"
   ]
  },
  {
   "cell_type": "code",
   "execution_count": null,
   "metadata": {},
   "outputs": [],
   "source": [
    "print(cluster_df_slim['Cluster'].value_counts())"
   ]
  },
  {
   "cell_type": "code",
   "execution_count": null,
   "metadata": {},
   "outputs": [],
   "source": [
    "from sklearn.metrics import silhouette_score\n",
    "\n",
    "# Calculate the silhouette score for your clustering\n",
    "score = silhouette_score(cluster_df_slim_scaled, cluster_labels)\n",
    "print(\"Silhouette Score:\", score)\n"
   ]
  },
  {
   "cell_type": "code",
   "execution_count": null,
   "metadata": {},
   "outputs": [],
   "source": [
    "from sklearn.decomposition import PCA\n",
    "import matplotlib.pyplot as plt\n",
    "\n",
    "# Reduce dimensions to 2D for visualization\n",
    "pca = PCA(n_components=2)\n",
    "pca_components = pca.fit_transform(cluster_df_slim_scaled)\n",
    "\n",
    "# Plot the clusters in 2D\n",
    "plt.figure(figsize=(10, 7))\n",
    "plt.scatter(pca_components[:, 0], pca_components[:, 1], c=cluster_labels, cmap='viridis', s=50)\n",
    "plt.xlabel('PCA Component 1')\n",
    "plt.ylabel('PCA Component 2')\n",
    "plt.title('KMeans Clusters (PCA Reduced)')\n",
    "plt.colorbar(label='Cluster Label')\n",
    "plt.show()"
   ]
  },
  {
   "cell_type": "code",
   "execution_count": null,
   "metadata": {},
   "outputs": [],
   "source": [
    "# Matplotlib\n",
    "plt.matshow(pca.components_, cmap='viridis')\n",
    "plt.yticks([0, 1], [\"First component\", \"Second component\"])\n",
    "plt.colorbar()\n",
    "plt.xticks(range(len(cluster_df_slim_scaled.columns)), cluster_df_slim_scaled.columns, rotation=90)\n",
    "plt.show()"
   ]
  },
  {
   "cell_type": "code",
   "execution_count": null,
   "metadata": {},
   "outputs": [],
   "source": [
    "from sklearn.manifold import TSNE\n",
    "\n",
    "# Reduce dimensions to 2D for visualization with t-SNE\n",
    "tsne = TSNE(n_components=2, random_state=42)\n",
    "tsne_components = tsne.fit_transform(cluster_df_slim_scaled)\n",
    "\n",
    "# Plot the clusters in 2D\n",
    "plt.figure(figsize=(10, 7))\n",
    "plt.scatter(tsne_components[:, 0], tsne_components[:, 1], c=cluster_labels, cmap='viridis', s=50)\n",
    "plt.xlabel('t-SNE Component 1')\n",
    "plt.ylabel('t-SNE Component 2')\n",
    "plt.title('KMeans Clusters (t-SNE Reduced)')\n",
    "plt.colorbar(label='Cluster Label')\n",
    "plt.show()"
   ]
  },
  {
   "cell_type": "code",
   "execution_count": null,
   "metadata": {},
   "outputs": [],
   "source": [
    "# Get cluster centers in original scaled dimensions\n",
    "cluster_centers = pd.DataFrame(kmeans.cluster_centers_, columns=cluster_df_slim.columns[:-1])\n",
    "print(cluster_centers)"
   ]
  },
  {
   "cell_type": "code",
   "execution_count": null,
   "metadata": {},
   "outputs": [],
   "source": [
    "import pandas as pd\n",
    "\n",
    "# Add cluster labels to the DataFrame\n",
    "cluster_df_slim_scaled['Cluster'] = cluster_labels\n",
    "\n",
    "# Calculate within-cluster variance for each feature\n",
    "feature_influence = cluster_df_slim_scaled.groupby('Cluster').var().mean()\n",
    "print(\"Feature Influence based on Within-Cluster Variance:\\n\", feature_influence)"
   ]
  },
  {
   "cell_type": "code",
   "execution_count": null,
   "metadata": {},
   "outputs": [],
   "source": [
    "enhanced_tracks_df[\"Cluster\"] = cluster_labels"
   ]
  },
  {
   "cell_type": "code",
   "execution_count": null,
   "metadata": {},
   "outputs": [],
   "source": [
    "enhanced_tracks_df.to_csv(\"enhanced_tracks_cluster7.csv\")"
   ]
  },
  {
   "cell_type": "code",
   "execution_count": null,
   "metadata": {},
   "outputs": [],
   "source": [
    "simplified_cluster_df = enhanced_tracks_df[[\"artist_name\",\"track_name\",\"Cluster\",\"energy\",\"danceability\",\"tempo\"]]\n",
    "simplified_cluster_df.head(100)"
   ]
  },
  {
   "cell_type": "code",
   "execution_count": null,
   "metadata": {},
   "outputs": [],
   "source": [
    "#reducing the amount of features to the most relevant"
   ]
  },
  {
   "cell_type": "markdown",
   "metadata": {},
   "source": [
    "### REDUCING THE AMOUNT OF FEATURES TO THE MOST RELEVANT, INCREASING CLUSTER AMOUNT"
   ]
  },
  {
   "cell_type": "code",
   "execution_count": null,
   "metadata": {},
   "outputs": [],
   "source": [
    "cluster_df_slim = cluster_df.drop(columns = [\"track_popularity\",\"track_number\",\"key\",\"mode\",\"duration_ms\",\"time_signature\"])"
   ]
  },
  {
   "cell_type": "code",
   "execution_count": null,
   "metadata": {},
   "outputs": [],
   "source": [
    "cluster_df_reduced = cluster_df_slim.drop(columns=[\"instrumentalness\",\"liveness\",\"acousticness\",\"speechiness\"])"
   ]
  },
  {
   "cell_type": "code",
   "execution_count": null,
   "metadata": {},
   "outputs": [],
   "source": [
    "from sklearn.preprocessing import MinMaxScaler\n",
    "scaler = MinMaxScaler()\n",
    "cluster_df_reduced_scaled = scaler.fit_transform(cluster_df_reduced)\n",
    "cluster_df_reduced_scaled = pd.DataFrame(cluster_df_reduced_scaled, columns=cluster_df_reduced.columns)"
   ]
  },
  {
   "cell_type": "code",
   "execution_count": null,
   "metadata": {},
   "outputs": [],
   "source": [
    "cluster_df_reduced_scaled"
   ]
  },
  {
   "cell_type": "code",
   "execution_count": null,
   "metadata": {},
   "outputs": [],
   "source": [
    "cluster_df_further_reduced_scaled = cluster_df_reduced_scaled.drop(columns=\"danceability\")"
   ]
  },
  {
   "cell_type": "code",
   "execution_count": null,
   "metadata": {},
   "outputs": [],
   "source": [
    "cluster_df_further_reduced_scaled"
   ]
  },
  {
   "cell_type": "code",
   "execution_count": null,
   "metadata": {},
   "outputs": [],
   "source": [
    "from sklearn import cluster\n",
    "from yellowbrick.cluster import KElbowVisualizer\n",
    "import matplotlib.pyplot as plt\n",
    "\n",
    "# Initialize the KMeans model\n",
    "model = cluster.KMeans(random_state=42, init=\"random\")\n",
    "\n",
    "# Create the elbow visualizer\n",
    "visualizer = KElbowVisualizer(model, k=(2, 20))\n",
    "\n",
    "# Fit the data to the visualizer\n",
    "visualizer.fit(cluster_df_further_reduced_scaled)\n",
    "\n",
    "# Save the figure\n",
    "visualizer.finalize()  # Ensure the visualizer has fully rendered its labels and title\n",
    "plt.savefig(\"elbow_visualizer.png\", dpi=300, bbox_inches='tight')  # Save with all elements\n",
    "\n",
    "# Show the plot (optional)\n",
    "plt.show()\n",
    "\n",
    "# Close the plot to clean up resources (if running multiple plots in sequence)\n",
    "plt.close()\n",
    "\n"
   ]
  },
  {
   "cell_type": "code",
   "execution_count": null,
   "metadata": {},
   "outputs": [],
   "source": [
    "#Recommended number of clusters 6 by Distortion Score Elbow, but testing and evaluating with domain knowledge 10 clusters yielded the\n",
    "#best results for useful separation and real-world meaningfulness of the clusters"
   ]
  },
  {
   "cell_type": "code",
   "execution_count": null,
   "metadata": {},
   "outputs": [],
   "source": [
    "from sklearn.cluster import KMeans\n",
    "\n",
    "kmeans = KMeans(n_clusters=10, random_state=42)\n",
    "\n",
    "cluster_labels = kmeans.fit_predict(cluster_df_further_reduced_scaled)"
   ]
  },
  {
   "cell_type": "code",
   "execution_count": null,
   "metadata": {},
   "outputs": [],
   "source": [
    "cluster_df_slim['Cluster'] = cluster_labels"
   ]
  },
  {
   "cell_type": "code",
   "execution_count": null,
   "metadata": {},
   "outputs": [],
   "source": [
    "from sklearn.metrics import silhouette_score\n",
    "\n",
    "# Calculate the silhouette score for your clustering\n",
    "score = silhouette_score(cluster_df_further_reduced_scaled, cluster_labels)\n",
    "print(\"Silhouette Score:\", score)"
   ]
  },
  {
   "cell_type": "code",
   "execution_count": null,
   "metadata": {},
   "outputs": [],
   "source": [
    "from sklearn.decomposition import PCA\n",
    "import matplotlib.pyplot as plt\n",
    "\n",
    "# Reduce dimensions to 2D for visualization\n",
    "pca = PCA(n_components=2)\n",
    "pca_components = pca.fit_transform(cluster_df_further_reduced_scaled)\n",
    "\n",
    "# Plot the clusters in 2D\n",
    "plt.figure(figsize=(10, 7))\n",
    "plt.scatter(pca_components[:, 0], pca_components[:, 1], c=cluster_labels, cmap='viridis', s=50)\n",
    "plt.xlabel('PCA Component 1')\n",
    "plt.ylabel('PCA Component 2')\n",
    "plt.title('KMeans Clusters (PCA Reduced)')\n",
    "plt.colorbar(label='Cluster Label')\n",
    "plt.savefig(\"PCA_further_reduced10.png\", dpi=300)\n",
    "plt.show()\n"
   ]
  },
  {
   "cell_type": "code",
   "execution_count": null,
   "metadata": {},
   "outputs": [],
   "source": [
    "# Matplotlib\n",
    "plt.matshow(pca.components_, cmap='viridis')\n",
    "plt.yticks([0, 1], [\"First component\", \"Second component\"])\n",
    "plt.colorbar()\n",
    "plt.xticks(range(len(cluster_df_further_reduced_scaled.columns)), cluster_df_further_reduced_scaled.columns, rotation=90)\n",
    "plt.show()\n",
    "\n",
    "# Plotly\n",
    "# fig = px.imshow(pca.components_, y=['1st component', '2nd component', '3rd component'], x=list(data.columns.drop('label')), color_continuous_scale='viridis')\n",
    "# fig.update_coloraxes(overwrite=True)\n",
    "# fig.update_layout(showlegend=False)\n",
    "# fig.show()"
   ]
  },
  {
   "cell_type": "code",
   "execution_count": null,
   "metadata": {},
   "outputs": [],
   "source": [
    "from sklearn.manifold import TSNE\n",
    "\n",
    "# Reduce dimensions to 2D for visualization with t-SNE\n",
    "tsne = TSNE(n_components=2, random_state=42)\n",
    "tsne_components = tsne.fit_transform(cluster_df_further_reduced_scaled)\n",
    "\n",
    "# Plot the clusters in 2D\n",
    "plt.figure(figsize=(10, 7))\n",
    "plt.scatter(tsne_components[:, 0], tsne_components[:, 1], c=cluster_labels, cmap='viridis', s=50)\n",
    "plt.xlabel('t-SNE Component 1')\n",
    "plt.ylabel('t-SNE Component 2')\n",
    "plt.title('KMeans Clusters (t-SNE Reduced)')\n",
    "plt.colorbar(label='Cluster Label')\n",
    "plt.savefig(\"tSNE_further_reduced_10.png\")\n",
    "plt.show()"
   ]
  },
  {
   "cell_type": "code",
   "execution_count": null,
   "metadata": {},
   "outputs": [],
   "source": [
    "print(cluster_df_slim['Cluster'].value_counts())"
   ]
  },
  {
   "cell_type": "code",
   "execution_count": null,
   "metadata": {},
   "outputs": [],
   "source": [
    "import pandas as pd\n",
    "\n",
    "# Add cluster labels to the DataFrame\n",
    "cluster_df_further_reduced_scaled['Cluster'] = cluster_labels\n",
    "\n",
    "# Calculate within-cluster variance for each feature\n",
    "feature_influence = cluster_df_further_reduced_scaled.groupby('Cluster').var().mean()\n",
    "print(\"Feature Influence based on Within-Cluster Variance:\\n\", feature_influence)\n"
   ]
  },
  {
   "cell_type": "code",
   "execution_count": null,
   "metadata": {},
   "outputs": [],
   "source": [
    "enhanced_tracks_df[\"Cluster\"] = cluster_labels"
   ]
  },
  {
   "cell_type": "code",
   "execution_count": null,
   "metadata": {},
   "outputs": [],
   "source": [
    "enhanced_tracks_df.to_csv(\"enhanced_tracks_cluster10_further_reduced.csv\")"
   ]
  },
  {
   "cell_type": "code",
   "execution_count": null,
   "metadata": {},
   "outputs": [],
   "source": [
    "simplified_cluster_df = enhanced_tracks_df[[\"artist_name\",\"track_name\",\"Cluster\",\"energy\",\"danceability\",\"tempo\"]]\n",
    "simplified_cluster_df.head(200)"
   ]
  },
  {
   "cell_type": "code",
   "execution_count": null,
   "metadata": {},
   "outputs": [],
   "source": []
  }
 ],
 "metadata": {
  "kernelspec": {
   "display_name": "base",
   "language": "python",
   "name": "python3"
  },
  "language_info": {
   "codemirror_mode": {
    "name": "ipython",
    "version": 3
   },
   "file_extension": ".py",
   "mimetype": "text/x-python",
   "name": "python",
   "nbconvert_exporter": "python",
   "pygments_lexer": "ipython3",
   "version": "3.12.4"
  }
 },
 "nbformat": 4,
 "nbformat_minor": 2
}
